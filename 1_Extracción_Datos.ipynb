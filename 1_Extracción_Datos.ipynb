{
  "nbformat": 4,
  "nbformat_minor": 0,
  "metadata": {
    "colab": {
      "provenance": [],
      "authorship_tag": "ABX9TyOTCwAradaaLSPHhvwAyteR",
      "include_colab_link": true
    },
    "kernelspec": {
      "name": "python3",
      "display_name": "Python 3"
    },
    "language_info": {
      "name": "python"
    }
  },
  "cells": [
    {
      "cell_type": "markdown",
      "metadata": {
        "id": "view-in-github",
        "colab_type": "text"
      },
      "source": [
        "<a href=\"https://colab.research.google.com/github/JPSpinola/HolaMundo/blob/main/1_Extracci%C3%B3n_Datos.ipynb\" target=\"_parent\"><img src=\"https://colab.research.google.com/assets/colab-badge.svg\" alt=\"Open In Colab\"/></a>"
      ]
    },
    {
      "cell_type": "code",
      "execution_count": null,
      "metadata": {
        "id": "vo0pzFcxp0Qj"
      },
      "outputs": [],
      "source": [
        "#Importar librerias requeridas\n",
        "import pandas as pd\n",
        "import numpy as np\n",
        "import matplotlib.pyplot as plt\n",
        "import seaborn as sns\n",
        "import io"
      ]
    },
    {
      "cell_type": "code",
      "source": [
        "#Cargar archivo csv desde equipo\n",
        "from google.colab import files\n",
        "files.upload()"
      ],
      "metadata": {
        "id": "na1tk0olscRv"
      },
      "execution_count": null,
      "outputs": []
    },
    {
      "cell_type": "code",
      "source": [
        "#Convertir en dataframe\n",
        "df=pd.read_csv(\"file.csv\")\n",
        "df"
      ],
      "metadata": {
        "id": "HlTFmv57soI9"
      },
      "execution_count": null,
      "outputs": []
    },
    {
      "cell_type": "code",
      "source": [
        "#Imprimir las primeras filas o registros del Dataframe\n",
        "df.head(5)"
      ],
      "metadata": {
        "id": "jQAyomWAtdS1"
      },
      "execution_count": null,
      "outputs": []
    },
    {
      "cell_type": "markdown",
      "source": [
        "*FILTROS BASICOS PARA VARIABLES CUALITATIVAS*"
      ],
      "metadata": {
        "id": "FfeVf-OYtnyV"
      }
    },
    {
      "cell_type": "code",
      "source": [
        "#Filtro por objeto\n",
        "filtro1=df[df[\"Sexo\"]==\"Hombres\"]\n",
        "filtro1"
      ],
      "metadata": {
        "id": "0PiU1lOJtlLm"
      },
      "execution_count": null,
      "outputs": []
    },
    {
      "cell_type": "code",
      "source": [
        "#Filtro por filas\n",
        "#Filtro2= df.iloc[300:302, : ] #Filas consecutivas\n",
        "filtro2=df.iloc[[1000, 2000, 3000], : ] #Filas no consecutivas #Izquierda de la coma filas y derecha columnas # : = Todas las columnas\n",
        "filtro2"
      ],
      "metadata": {
        "id": "2bg1Jleivfhk"
      },
      "execution_count": null,
      "outputs": []
    },
    {
      "cell_type": "code",
      "source": [
        "#Filtro por columnas\n",
        "#filtro3=df.iloc[ : , 4:6]\n",
        "filtro3=df.iloc[: ,[1,4,5]] #Columnas no consecutivas\n",
        "filtro3"
      ],
      "metadata": {
        "id": "823ebdDfxJLX"
      },
      "execution_count": null,
      "outputs": []
    },
    {
      "cell_type": "code",
      "source": [
        "#Filtro por columnas y por filas\n",
        "filtro_mix=df.iloc[ [10,20,50], 2:5] #Columnas de la 2 a la 4, el valor de la derecha no se toma en cuenta\n",
        "filtro_mix # iloc cuando no tienes índice"
      ],
      "metadata": {
        "id": "DzE74f-eymCV"
      },
      "execution_count": null,
      "outputs": []
    },
    {
      "cell_type": "code",
      "source": [
        "#Filtro de filas vs columnas\n",
        "#Paso 1: Leemos el contenido del archivo\n",
        "from google.colab import files\n",
        "uploaded=files.upload()\n",
        "df = pd.read_csv(io.BytesIO(uploaded['file.csv']), index_col=2)\n",
        "df"
      ],
      "metadata": {
        "id": "7ZEInDKezri1"
      },
      "execution_count": null,
      "outputs": []
    },
    {
      "cell_type": "code",
      "source": [
        "#Paso 2: Aplicamos Filtro de filas vs columnas\n",
        "filtro4=df.loc[[\"Puebla\",\"Durango\"],[\"Poblacion_ocupada_en_la_industria_manufacturera\"]] # loc cuando tienes índice\n",
        "filtro4"
      ],
      "metadata": {
        "id": "hHGKVp1y1Hf2"
      },
      "execution_count": null,
      "outputs": []
    },
    {
      "cell_type": "code",
      "source": [
        "#Filtro por cabecera\n",
        "filtro5=df.head()\n",
        "filtro5"
      ],
      "metadata": {
        "id": "sGP7hcI13P0V"
      },
      "execution_count": null,
      "outputs": []
    },
    {
      "cell_type": "markdown",
      "source": [
        "FILTROS BÁSICOS PARA VARIABLES CUANTITATIVAS"
      ],
      "metadata": {
        "id": "PD2twQhi48Qc"
      }
    },
    {
      "cell_type": "code",
      "source": [
        "#Filtro por comparación\n",
        "filtro6=df[df[\"Periodo\"] > 2010]\n",
        "filtro6"
      ],
      "metadata": {
        "id": "u5eq81eQ4_zZ"
      },
      "execution_count": null,
      "outputs": []
    },
    {
      "cell_type": "markdown",
      "source": [
        "FILTROS BASICOS CON CONECTORES LOGICOS"
      ],
      "metadata": {
        "id": "L8yrWROJ7hkE"
      }
    },
    {
      "cell_type": "code",
      "source": [
        "#FILTRO Y\n",
        "filtro7=df[(df[\"Periodo\"] == 2005) & (df[\"Sexo\"] == \"Hombres\") & (df[\"Trimestre\"] > 2)]\n",
        "filtro7"
      ],
      "metadata": {
        "id": "-pMT70Fu7kV7"
      },
      "execution_count": null,
      "outputs": []
    },
    {
      "cell_type": "code",
      "source": [
        "#Filtro o \n",
        "filtro8=df[(df[\"Periodo\"] > 2006) | (df[\"Sexo\"] == \"Mujeres\")]\n",
        "filtro8"
      ],
      "metadata": {
        "id": "A_XqfaYZLJLU"
      },
      "execution_count": null,
      "outputs": []
    },
    {
      "cell_type": "code",
      "source": [
        "#Filtro not \n",
        "filtro9=df[~(df[\"Periodo\"] >= 2006) &~ (df[\"Sexo\"] == \"Mujeres\")] \n",
        "filtro9"
      ],
      "metadata": {
        "id": "PobPmLOILjzn"
      },
      "execution_count": null,
      "outputs": []
    },
    {
      "cell_type": "code",
      "source": [
        "#Convertir archivo filtrado a CSV \n",
        "filtro9.to_csv(\"Entregable1.csv\")"
      ],
      "metadata": {
        "id": "hAEeKVF-Ln-f"
      },
      "execution_count": null,
      "outputs": []
    },
    {
      "cell_type": "code",
      "source": [
        "#Descargar archivo filtrado en csv \n",
        "from google.colab import files \n",
        "\n",
        "files.download(\"Entregable1.csv\")"
      ],
      "metadata": {
        "id": "2uVyw9ZMLrO-"
      },
      "execution_count": null,
      "outputs": []
    }
  ]
}