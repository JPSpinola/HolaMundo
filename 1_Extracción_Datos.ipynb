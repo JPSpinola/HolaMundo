{
  "nbformat": 4,
  "nbformat_minor": 0,
  "metadata": {
    "colab": {
      "provenance": [],
      "authorship_tag": "ABX9TyOEgb4hrGNgVDTkJOQMeQ1C",
      "include_colab_link": true
    },
    "kernelspec": {
      "name": "python3",
      "display_name": "Python 3"
    },
    "language_info": {
      "name": "python"
    }
  },
  "cells": [
    {
      "cell_type": "markdown",
      "metadata": {
        "id": "view-in-github",
        "colab_type": "text"
      },
      "source": [
        "<a href=\"https://colab.research.google.com/github/JPSpinola/HolaMundo/blob/main/1_Extracci%C3%B3n_Datos.ipynb\" target=\"_parent\"><img src=\"https://colab.research.google.com/assets/colab-badge.svg\" alt=\"Open In Colab\"/></a>"
      ]
    },
    {
      "cell_type": "code",
      "execution_count": 1,
      "metadata": {
        "id": "vo0pzFcxp0Qj"
      },
      "outputs": [],
      "source": [
        "#Importar librerias requeridas\n",
        "import pandas as pd\n",
        "import numpy as np\n",
        "import matplotlib.pyplot as plt\n",
        "import seaborn as sns\n",
        "import io"
      ]
    },
    {
      "cell_type": "code",
      "source": [
        "#Cargar archivo csv desde equipo\n",
        "from google.colab import files\n",
        "files.upload()"
      ],
      "metadata": {
        "id": "na1tk0olscRv"
      },
      "execution_count": null,
      "outputs": []
    },
    {
      "cell_type": "code",
      "source": [
        "#Convertir en dataframe\n",
        "df=pd.read_csv(\"file.csv\")\n",
        "df"
      ],
      "metadata": {
        "id": "HlTFmv57soI9"
      },
      "execution_count": null,
      "outputs": []
    },
    {
      "cell_type": "code",
      "source": [
        "#Imprimir las primeras filas o registros del Dataframe\n",
        "df.head(5)"
      ],
      "metadata": {
        "colab": {
          "base_uri": "https://localhost:8080/",
          "height": 299
        },
        "id": "jQAyomWAtdS1",
        "outputId": "41e575b5-70eb-47a3-8469-f13ea737158f"
      },
      "execution_count": 40,
      "outputs": [
        {
          "output_type": "execute_result",
          "data": {
            "text/plain": [
              "                    Periodo  Trimestre     Sexo  \\\n",
              "Entidad_Federativa                                \n",
              "Nacional               2005          1  Hombres   \n",
              "Nacional               2005          1  Mujeres   \n",
              "Aguascalientes         2005          1  Hombres   \n",
              "Aguascalientes         2005          1  Mujeres   \n",
              "Baja California        2005          1  Hombres   \n",
              "\n",
              "                   Poblacion_ocupada_en_la_industria_manufacturera  \\\n",
              "Entidad_Federativa                                                   \n",
              "Nacional                                                   4384907   \n",
              "Nacional                                                   2690296   \n",
              "Aguascalientes                                               56407   \n",
              "Aguascalientes                                               28430   \n",
              "Baja California                                             167651   \n",
              "\n",
              "                   Poblaci n_ocupada  \\\n",
              "Entidad_Federativa                     \n",
              "Nacional                    26597801   \n",
              "Nacional                    14843275   \n",
              "Aguascalientes                246177   \n",
              "Aguascalientes                145656   \n",
              "Baja California               768989   \n",
              "\n",
              "                   Tasa_de_ocupaci n_en_la_industria_manufacturera  \n",
              "Entidad_Federativa                                                  \n",
              "Nacional                                  16.485975660000000000000  \n",
              "Nacional                                  18.124679360000000000000  \n",
              "Aguascalientes                            22.913188480000000000000  \n",
              "Aguascalientes                            19.518591750000000000000  \n",
              "Baja California                           21.801482210000000000000  "
            ],
            "text/html": [
              "\n",
              "  <div id=\"df-6e96c07b-e6d6-489d-89b9-784f761cd5f2\">\n",
              "    <div class=\"colab-df-container\">\n",
              "      <div>\n",
              "<style scoped>\n",
              "    .dataframe tbody tr th:only-of-type {\n",
              "        vertical-align: middle;\n",
              "    }\n",
              "\n",
              "    .dataframe tbody tr th {\n",
              "        vertical-align: top;\n",
              "    }\n",
              "\n",
              "    .dataframe thead th {\n",
              "        text-align: right;\n",
              "    }\n",
              "</style>\n",
              "<table border=\"1\" class=\"dataframe\">\n",
              "  <thead>\n",
              "    <tr style=\"text-align: right;\">\n",
              "      <th></th>\n",
              "      <th>Periodo</th>\n",
              "      <th>Trimestre</th>\n",
              "      <th>Sexo</th>\n",
              "      <th>Poblacion_ocupada_en_la_industria_manufacturera</th>\n",
              "      <th>Poblaci n_ocupada</th>\n",
              "      <th>Tasa_de_ocupaci n_en_la_industria_manufacturera</th>\n",
              "    </tr>\n",
              "    <tr>\n",
              "      <th>Entidad_Federativa</th>\n",
              "      <th></th>\n",
              "      <th></th>\n",
              "      <th></th>\n",
              "      <th></th>\n",
              "      <th></th>\n",
              "      <th></th>\n",
              "    </tr>\n",
              "  </thead>\n",
              "  <tbody>\n",
              "    <tr>\n",
              "      <th>Nacional</th>\n",
              "      <td>2005</td>\n",
              "      <td>1</td>\n",
              "      <td>Hombres</td>\n",
              "      <td>4384907</td>\n",
              "      <td>26597801</td>\n",
              "      <td>16.485975660000000000000</td>\n",
              "    </tr>\n",
              "    <tr>\n",
              "      <th>Nacional</th>\n",
              "      <td>2005</td>\n",
              "      <td>1</td>\n",
              "      <td>Mujeres</td>\n",
              "      <td>2690296</td>\n",
              "      <td>14843275</td>\n",
              "      <td>18.124679360000000000000</td>\n",
              "    </tr>\n",
              "    <tr>\n",
              "      <th>Aguascalientes</th>\n",
              "      <td>2005</td>\n",
              "      <td>1</td>\n",
              "      <td>Hombres</td>\n",
              "      <td>56407</td>\n",
              "      <td>246177</td>\n",
              "      <td>22.913188480000000000000</td>\n",
              "    </tr>\n",
              "    <tr>\n",
              "      <th>Aguascalientes</th>\n",
              "      <td>2005</td>\n",
              "      <td>1</td>\n",
              "      <td>Mujeres</td>\n",
              "      <td>28430</td>\n",
              "      <td>145656</td>\n",
              "      <td>19.518591750000000000000</td>\n",
              "    </tr>\n",
              "    <tr>\n",
              "      <th>Baja California</th>\n",
              "      <td>2005</td>\n",
              "      <td>1</td>\n",
              "      <td>Hombres</td>\n",
              "      <td>167651</td>\n",
              "      <td>768989</td>\n",
              "      <td>21.801482210000000000000</td>\n",
              "    </tr>\n",
              "  </tbody>\n",
              "</table>\n",
              "</div>\n",
              "      <button class=\"colab-df-convert\" onclick=\"convertToInteractive('df-6e96c07b-e6d6-489d-89b9-784f761cd5f2')\"\n",
              "              title=\"Convert this dataframe to an interactive table.\"\n",
              "              style=\"display:none;\">\n",
              "        \n",
              "  <svg xmlns=\"http://www.w3.org/2000/svg\" height=\"24px\"viewBox=\"0 0 24 24\"\n",
              "       width=\"24px\">\n",
              "    <path d=\"M0 0h24v24H0V0z\" fill=\"none\"/>\n",
              "    <path d=\"M18.56 5.44l.94 2.06.94-2.06 2.06-.94-2.06-.94-.94-2.06-.94 2.06-2.06.94zm-11 1L8.5 8.5l.94-2.06 2.06-.94-2.06-.94L8.5 2.5l-.94 2.06-2.06.94zm10 10l.94 2.06.94-2.06 2.06-.94-2.06-.94-.94-2.06-.94 2.06-2.06.94z\"/><path d=\"M17.41 7.96l-1.37-1.37c-.4-.4-.92-.59-1.43-.59-.52 0-1.04.2-1.43.59L10.3 9.45l-7.72 7.72c-.78.78-.78 2.05 0 2.83L4 21.41c.39.39.9.59 1.41.59.51 0 1.02-.2 1.41-.59l7.78-7.78 2.81-2.81c.8-.78.8-2.07 0-2.86zM5.41 20L4 18.59l7.72-7.72 1.47 1.35L5.41 20z\"/>\n",
              "  </svg>\n",
              "      </button>\n",
              "      \n",
              "  <style>\n",
              "    .colab-df-container {\n",
              "      display:flex;\n",
              "      flex-wrap:wrap;\n",
              "      gap: 12px;\n",
              "    }\n",
              "\n",
              "    .colab-df-convert {\n",
              "      background-color: #E8F0FE;\n",
              "      border: none;\n",
              "      border-radius: 50%;\n",
              "      cursor: pointer;\n",
              "      display: none;\n",
              "      fill: #1967D2;\n",
              "      height: 32px;\n",
              "      padding: 0 0 0 0;\n",
              "      width: 32px;\n",
              "    }\n",
              "\n",
              "    .colab-df-convert:hover {\n",
              "      background-color: #E2EBFA;\n",
              "      box-shadow: 0px 1px 2px rgba(60, 64, 67, 0.3), 0px 1px 3px 1px rgba(60, 64, 67, 0.15);\n",
              "      fill: #174EA6;\n",
              "    }\n",
              "\n",
              "    [theme=dark] .colab-df-convert {\n",
              "      background-color: #3B4455;\n",
              "      fill: #D2E3FC;\n",
              "    }\n",
              "\n",
              "    [theme=dark] .colab-df-convert:hover {\n",
              "      background-color: #434B5C;\n",
              "      box-shadow: 0px 1px 3px 1px rgba(0, 0, 0, 0.15);\n",
              "      filter: drop-shadow(0px 1px 2px rgba(0, 0, 0, 0.3));\n",
              "      fill: #FFFFFF;\n",
              "    }\n",
              "  </style>\n",
              "\n",
              "      <script>\n",
              "        const buttonEl =\n",
              "          document.querySelector('#df-6e96c07b-e6d6-489d-89b9-784f761cd5f2 button.colab-df-convert');\n",
              "        buttonEl.style.display =\n",
              "          google.colab.kernel.accessAllowed ? 'block' : 'none';\n",
              "\n",
              "        async function convertToInteractive(key) {\n",
              "          const element = document.querySelector('#df-6e96c07b-e6d6-489d-89b9-784f761cd5f2');\n",
              "          const dataTable =\n",
              "            await google.colab.kernel.invokeFunction('convertToInteractive',\n",
              "                                                     [key], {});\n",
              "          if (!dataTable) return;\n",
              "\n",
              "          const docLinkHtml = 'Like what you see? Visit the ' +\n",
              "            '<a target=\"_blank\" href=https://colab.research.google.com/notebooks/data_table.ipynb>data table notebook</a>'\n",
              "            + ' to learn more about interactive tables.';\n",
              "          element.innerHTML = '';\n",
              "          dataTable['output_type'] = 'display_data';\n",
              "          await google.colab.output.renderOutput(dataTable, element);\n",
              "          const docLink = document.createElement('div');\n",
              "          docLink.innerHTML = docLinkHtml;\n",
              "          element.appendChild(docLink);\n",
              "        }\n",
              "      </script>\n",
              "    </div>\n",
              "  </div>\n",
              "  "
            ]
          },
          "metadata": {},
          "execution_count": 40
        }
      ]
    },
    {
      "cell_type": "markdown",
      "source": [
        "*FILTROS BASICOS PARA VARIABLES CUALITATIVAS*"
      ],
      "metadata": {
        "id": "FfeVf-OYtnyV"
      }
    },
    {
      "cell_type": "code",
      "source": [
        "#Filtro por objeto\n",
        "filtro1=df[df[\"Sexo\"]==\"Hombres\"]\n",
        "filtro1"
      ],
      "metadata": {
        "id": "0PiU1lOJtlLm"
      },
      "execution_count": null,
      "outputs": []
    },
    {
      "cell_type": "code",
      "source": [
        "#Filtro por filas\n",
        "#Filtro2= df.iloc[300:302, : ] #Filas consecutivas\n",
        "filtro2=df.iloc[[1000, 2000, 3000], : ] #Filas no consecutivas #Izquierda de la coma filas y derecha columnas # : = Todas las columnas\n",
        "filtro2"
      ],
      "metadata": {
        "id": "2bg1Jleivfhk"
      },
      "execution_count": null,
      "outputs": []
    },
    {
      "cell_type": "code",
      "source": [
        "#Filtro por columnas\n",
        "#filtro3=df.iloc[ : , 4:6]\n",
        "filtro3=df.iloc[: ,[1,4,5]] #Columnas no consecutivas\n",
        "filtro3"
      ],
      "metadata": {
        "id": "823ebdDfxJLX"
      },
      "execution_count": null,
      "outputs": []
    },
    {
      "cell_type": "code",
      "source": [
        "#Filtro por columnas y por filas\n",
        "filtro_mix=df.iloc[ [10,20,50], 2:5] #Columnas de la 2 a la 4, el valor de la derecha no se toma en cuenta\n",
        "filtro_mix # iloc cuando no tienes índice"
      ],
      "metadata": {
        "id": "DzE74f-eymCV"
      },
      "execution_count": null,
      "outputs": []
    },
    {
      "cell_type": "code",
      "source": [
        "#Filtro de filas vs columnas\n",
        "#Paso 1: Leemos el contenido del archivo\n",
        "from google.colab import files\n",
        "uploaded=files.upload()\n",
        "df = pd.read_csv(io.BytesIO(uploaded['file.csv']), index_col=2)\n",
        "df"
      ],
      "metadata": {
        "id": "7ZEInDKezri1"
      },
      "execution_count": null,
      "outputs": []
    },
    {
      "cell_type": "code",
      "source": [
        "#Paso 2: Aplicamos Filtro de filas vs columnas\n",
        "filtro4=df.loc[[\"Puebla\",\"Durango\"],[\"Poblacion_ocupada_en_la_industria_manufacturera\"]] # loc cuando tienes índice\n",
        "filtro4"
      ],
      "metadata": {
        "id": "hHGKVp1y1Hf2"
      },
      "execution_count": null,
      "outputs": []
    },
    {
      "cell_type": "code",
      "source": [
        "#Filtro por cabecera\n",
        "filtro5=df.head()\n",
        "filtro5"
      ],
      "metadata": {
        "id": "sGP7hcI13P0V"
      },
      "execution_count": null,
      "outputs": []
    },
    {
      "cell_type": "markdown",
      "source": [
        "FILTROS BÁSICOS PARA VARIABLES CUANTITATIVAS"
      ],
      "metadata": {
        "id": "PD2twQhi48Qc"
      }
    },
    {
      "cell_type": "code",
      "source": [
        "#Filtro por comparación\n",
        "filtro6=df[df[\"Periodo\"] > 2010]\n",
        "filtro6"
      ],
      "metadata": {
        "id": "u5eq81eQ4_zZ"
      },
      "execution_count": null,
      "outputs": []
    },
    {
      "cell_type": "markdown",
      "source": [
        "FILTROS BASICOS CON CONECTORES LOGICOS"
      ],
      "metadata": {
        "id": "L8yrWROJ7hkE"
      }
    },
    {
      "cell_type": "code",
      "source": [
        "#FILTRO Y\n",
        "filtro7=df[(df[\"Periodo\"] == 2015) & (df[\"Sexo\"] == \"Hombres\") & (df[\"Trimestre\"] == 2)]\n",
        "filtro7"
      ],
      "metadata": {
        "id": "-pMT70Fu7kV7"
      },
      "execution_count": null,
      "outputs": []
    }
  ]
}